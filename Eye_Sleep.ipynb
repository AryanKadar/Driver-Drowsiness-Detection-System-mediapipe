{
 "cells": [
  {
   "cell_type": "code",
   "execution_count": 1,
   "id": "9bafcd9a",
   "metadata": {},
   "outputs": [],
   "source": [
    "import mediapipe as mp\n",
    "import cv2\n",
    "from mediapipe.python.solutions.drawing_utils import _normalized_to_pixel_coordinates\n",
    "import numpy as np\n",
    "from playsound import playsound"
   ]
  },
  {
   "cell_type": "code",
   "execution_count": 2,
   "id": "31aca74c",
   "metadata": {},
   "outputs": [],
   "source": [
    "draw=mp.solutions.drawing_utils\n",
    "faces=mp.solutions.holistic"
   ]
  },
  {
   "cell_type": "code",
   "execution_count": 3,
   "id": "19af414c",
   "metadata": {},
   "outputs": [],
   "source": [
    "cap=cv2.VideoCapture(0)\n",
    "with faces.Holistic(min_detection_confidence=0.6,min_tracking_confidence=0.6) as face:\n",
    "    \n",
    "    while cap.isOpened():\n",
    "        _,frame=cap.read()\n",
    "        image=cv2.cvtColor(frame,cv2.COLOR_BGR2RGB)\n",
    "        image.flags.writeable=False\n",
    "        result=face.process(image)\n",
    "        image.flags.writeable=True\n",
    "        image=cv2.cvtColor(image,cv2.COLOR_RGB2BGR)\n",
    "        \n",
    "        draw.draw_landmarks(image,result.face_landmarks,faces.FACEMESH_TESSELATION)\n",
    "        cv2.imshow(\"Eye\",image)\n",
    "\n",
    "        if cv2.waitKey(1) & 0xff==ord(\"q\"):\n",
    "            break\n",
    "cap.release()\n",
    "cv2.destroyAllWindows()"
   ]
  },
  {
   "cell_type": "code",
   "execution_count": 5,
   "id": "9105c673",
   "metadata": {},
   "outputs": [],
   "source": [
    "cap=cv2.VideoCapture(0)\n",
    "cap.set(cv2.CAP_PROP_FRAME_WIDTH, 900)\n",
    "cap.set(cv2.CAP_PROP_FRAME_HEIGHT,500)\n",
    "c=0\n",
    "with faces.Holistic(min_detection_confidence=0.6,min_tracking_confidence=0.6) as face:\n",
    "    \n",
    "    while cap.isOpened():\n",
    "        _,frame=cap.read()\n",
    "        image=cv2.cvtColor(frame,cv2.COLOR_BGR2RGB)\n",
    "        image.flags.writeable=False\n",
    "        result=face.process(image)\n",
    "        image.flags.writeable=True\n",
    "        image=cv2.cvtColor(image,cv2.COLOR_RGB2BGR)\n",
    "        \n",
    "        if result.face_landmarks:\n",
    "            cord159=cord=_normalized_to_pixel_coordinates(result.face_landmarks.landmark[159].x,result.face_landmarks.landmark[159].y,image.shape[1],image.shape[0])\n",
    "            cord145=cord=_normalized_to_pixel_coordinates(result.face_landmarks.landmark[145].x,result.face_landmarks.landmark[145].y,image.shape[1],image.shape[0])\n",
    "            #cv2.line(image,cord159,cord145, (0, 255, 0), thickness=2)\n",
    "            cord386=cord=_normalized_to_pixel_coordinates(result.face_landmarks.landmark[386].x,result.face_landmarks.landmark[386].y,image.shape[1],image.shape[0])\n",
    "            cord374=cord=_normalized_to_pixel_coordinates(result.face_landmarks.landmark[374].x,result.face_landmarks.landmark[374].y,image.shape[1],image.shape[0])\n",
    "            #cv2.line(image,cord386,cord374, (0, 255, 0), thickness=2)\n",
    "            left_eye_dist=np.abs(cord159[0]-cord145[0])+np.abs(cord159[1]-cord145[1])\n",
    "            right_eye_dist=np.abs(cord386[0]-cord374[0])+np.abs(cord386[1]-cord374[1])\n",
    "            mean=int((left_eye_dist+right_eye_dist)/2)\n",
    "            if mean<5:\n",
    "                c+=1\n",
    "                if c>4:\n",
    "                    cv2.putText(image,\"Sleep\",(70,110),cv2.FONT_HERSHEY_COMPLEX,2,(0,0,255),3)\n",
    "                    playsound('eye.wav')\n",
    "            else:\n",
    "                    c=0\n",
    "                    cv2.putText(image,\"Wake\",(70,110),cv2.FONT_HERSHEY_COMPLEX,2,(0,0,255),3)           \n",
    "        cv2.imshow(\"Eye\",image)\n",
    "\n",
    "        if cv2.waitKey(1) & 0xff==ord(\"q\"):\n",
    "            break\n",
    "cap.release()\n",
    "cv2.destroyAllWindows()"
   ]
  }
 ],
 "metadata": {
  "kernelspec": {
   "display_name": "Python 3 (ipykernel)",
   "language": "python",
   "name": "python3"
  },
  "language_info": {
   "codemirror_mode": {
    "name": "ipython",
    "version": 3
   },
   "file_extension": ".py",
   "mimetype": "text/x-python",
   "name": "python",
   "nbconvert_exporter": "python",
   "pygments_lexer": "ipython3",
   "version": "3.10.9"
  }
 },
 "nbformat": 4,
 "nbformat_minor": 5
}
